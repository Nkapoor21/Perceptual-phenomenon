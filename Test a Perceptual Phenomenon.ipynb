{
 "cells": [
  {
   "cell_type": "markdown",
   "metadata": {},
   "source": [
    "### Analyzing the Stroop Effect\n",
    "Perform the analysis in the space below. Remember to follow [the instructions](https://docs.google.com/document/d/1-OkpZLjG_kX9J6LIQ5IltsqMzVWjh36QpnP2RYpVdPU/pub?embedded=True) and review the [project rubric](https://review.udacity.com/#!/rubrics/71/view) before submitting. Once you've completed the analysis and write-up, download this file as a PDF or HTML file, upload that PDF/HTML into the workspace here (click on the orange Jupyter icon in the upper left then Upload), then use the Submit Project button at the bottom of this page. This will create a zip file containing both this .ipynb doc and the PDF/HTML doc that will be submitted for your project.\n",
    "\n",
    "\n",
    "(1) What is the independent variable? What is the dependent variable?"
   ]
  },
  {
   "cell_type": "markdown",
   "metadata": {},
   "source": [
    "dependent variable- time to perform a task i.e time to name ink colors.\n",
    "independent variable - is the condition (congruent,incongruent)"
   ]
  },
  {
   "cell_type": "markdown",
   "metadata": {},
   "source": [
    "(2) What is an appropriate set of hypotheses for this task? Specify your null and alternative hypotheses, and clearly define any notation used. Justify your choices."
   ]
  },
  {
   "cell_type": "markdown",
   "metadata": {},
   "source": [
    "Null hypothesis - There is no diffrence in time taken for a population to state the colors of words in congruent or incongruent condition.\n",
    "\n",
    "H0:  μ(c)=μ(I)\n",
    "Alternative Hypothesis - The time taken for a population to state the colors of words in congruent condition are not equal to incongruent condition.\n",
    "\n",
    "H(a): μ(c)!=μ(I)\n",
    "\n",
    "where:\n",
    "\n",
    "H(0)-> Null Hypothesis\n",
    "\n",
    "H(a)-> Alternative Hypothesis\n",
    "\n",
    "μ(c)-> Congruent population mean\n",
    "\n",
    "μ(I)-> Incongruent population mean\n",
    "\n",
    "Statistical test - we are performing t-test because the sample size is small, and the experiment is performed by same person therefore we analyse by paired t-test.\n",
    "\n",
    "Justification- we are doing two tailed hypothesis where null hypothesis is H0:  μ(c)=μ(I) and alternate hypothesis is H(a): μ(c)!=μ(I) where μ(c) is mean time taken to name Congruent words and μ(I) is mean time taken to name Incongruent words. t-test is used as if the p-value is less than alpha(α) then we have to reject null hypothesis otherwise we fail to reject the null hypothesis.we are assuming error rate to be 5% that makes α=0.05."
   ]
  },
  {
   "cell_type": "markdown",
   "metadata": {},
   "source": [
    "(3) Report some descriptive statistics regarding this dataset. Include at least one measure of central tendency and at least one measure of variability. The name of the data file is 'stroopdata.csv'."
   ]
  },
  {
   "cell_type": "code",
   "execution_count": 5,
   "metadata": {},
   "outputs": [
    {
     "name": "stdout",
     "output_type": "stream",
     "text": [
      "mean congruent is 14.051125\n",
      "mean incongruent is 22.0159166667\n",
      "median congruent is 14.3565\n",
      "median incongruent is 21.0175\n",
      "standard deviation congruent is 3.48441571277\n",
      "standard deviation incongruent is 4.69605513451\n"
     ]
    }
   ],
   "source": [
    "# Perform the analysis here\n",
    "import numpy as np;\n",
    "import pandas as pd;\n",
    "import matplotlib.pyplot as plt;\n",
    "%matplotlib inline\n",
    "df=pd.read_csv('stroopdata.csv');\n",
    "df.head();\n",
    "\n",
    "mean_congruent=df.Congruent.mean()\n",
    "mean_incongruent=df.Incongruent.mean()\n",
    "\n",
    "median_congruent=df.Congruent.median()\n",
    "median_incongruent=df.Incongruent.median();\n",
    "\n",
    "std_congruent=np.std(df['Congruent'])\n",
    "std_incongruent=np.std(df['Incongruent'])\n",
    "\n",
    "print('mean congruent is',mean_congruent)\n",
    "print('mean incongruent is',mean_incongruent)\n",
    "print('median congruent is',median_congruent)\n",
    "print('median incongruent is',median_incongruent)\n",
    "print('standard deviation congruent is',std_congruent)\n",
    "print('standard deviation incongruent is',std_incongruent)"
   ]
  },
  {
   "cell_type": "markdown",
   "metadata": {},
   "source": [
    "we get \n",
    "\n",
    "mean congruent is 14.051125\n",
    "\n",
    "mean incongruent is 22.0159166667\n",
    "\n",
    "median congruent is 14.3565\n",
    "\n",
    "median incongruent is 21.0175\n",
    "\n",
    "standard deviation congruent is 3.48441571277\n",
    "\n",
    "standard deviation incongruent is 4.69605513451\n",
    "\n",
    "These values give us the idea of dataset but we can't get much about these dataset by these values."
   ]
  },
  {
   "cell_type": "markdown",
   "metadata": {},
   "source": [
    "(4) Provide one or two visualizations that show the distribution of the sample data. Write one or two sentences noting what you observe about the plot or plots."
   ]
  },
  {
   "cell_type": "code",
   "execution_count": 11,
   "metadata": {},
   "outputs": [
    {
     "data": {
      "image/png": "[encoded data removed]",
      "text/plain": [
       "<matplotlib.figure.Figure at 0x7f0011941128>"
      ]
     },
     "metadata": {},
     "output_type": "display_data"
    },
    {
     "data": {
      "image/png": "[encoded data removed]",
      "text/plain": [
       "<matplotlib.figure.Figure at 0x7f0011758198>"
      ]
     },
     "metadata": {},
     "output_type": "display_data"
    }
   ],
   "source": [
    "# Build the visualizations here\n",
    "df.plot.hist()#plot histogram with use of data frame df\n",
    "plt.xlabel(\"Freqency\"); # write the name for x-axis\n",
    "plt.ylabel(\"value of mean\");# write the name for y-axis\n",
    "plt.title(\" Frequency vs value of mean \"); # write the title for graph\n",
    "plt.show()# to show the graph\n",
    "\n",
    "df.plot(kind='bar')#plot bar graph with use of data frame df\n",
    "plt.xlabel('participants number')# write the name for x-axis\n",
    "plt.ylabel('Time taken by participants')# write the name for y-axis\n",
    "plt.title('Number of participants vs time taken by the participants')# write the title for graph\n",
    "plt.show()# to show the graph"
   ]
  },
  {
   "cell_type": "markdown",
   "metadata": {},
   "source": [
    "\n",
    "Visualization 1:- Shows the mean time taken to say congruent and incongruent words . the graphs shows that the mean time to say incongruent words are higher than the congruent.\n",
    "\n",
    "visualization 2:- shows participants number vs time taken by participants .The graphs shows that time taken to say incongruent words are more than congruent words."
   ]
  },
  {
   "cell_type": "markdown",
   "metadata": {},
   "source": [
    "(5)  Now, perform the statistical test and report your results. What is your confidence level or Type I error associated with your test? What is your conclusion regarding the hypotheses you set up? Did the results match up with your expectations? **Hint:**  Think about what is being measured on each individual, and what statistic best captures how an individual reacts in each environment."
   ]
  },
  {
   "cell_type": "code",
   "execution_count": 12,
   "metadata": {},
   "outputs": [
    {
     "data": {
      "text/plain": [
       "Ttest_indResult(statistic=-6.5322505539032285, pvalue=4.5949489622951854e-08)"
      ]
     },
     "execution_count": 12,
     "metadata": {},
     "output_type": "execute_result"
    }
   ],
   "source": [
    "# Perform the statistical test here\n",
    "from scipy import stats\n",
    "stats.ttest_ind(df['Congruent'],df['Incongruent'])"
   ]
  },
  {
   "cell_type": "markdown",
   "metadata": {},
   "source": [
    "\n",
    "From the fact that that if pvalue is less than equla to alpha( pvalue <= α) then we reject null hypothesis.In this case we conclude that 4.5949489622951854e-08 <= 0.05 that is pvalue <= α therefore we reject null hypothesis Now we can say μ(c)!=μ(I) that he time taken for a population to state the colors of words in congruent condition are not equal to incongruent condition\n",
    "Therefore we reject null hypothesis."
   ]
  }
 ],
 "metadata": {
  "kernelspec": {
   "display_name": "Python 3",
   "language": "python",
   "name": "python3"
  },
  "language_info": {
   "codemirror_mode": {
    "name": "ipython",
    "version": 3
   },
   "file_extension": ".py",
   "mimetype": "text/x-python",
   "name": "python",
   "nbconvert_exporter": "python",
   "pygments_lexer": "ipython3",
   "version": "3.6.3"
  }
 },
 "nbformat": 4,
 "nbformat_minor": 2
}
